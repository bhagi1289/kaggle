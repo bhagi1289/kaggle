{
 "cells": [
  {
   "cell_type": "code",
   "execution_count": 1,
   "id": "overall-gravity",
   "metadata": {
    "_cell_guid": "b1076dfc-b9ad-4769-8c92-a6c4dae69d19",
    "_uuid": "8f2839f25d086af736a60e9eeb907d3b93b6e0e5",
    "execution": {
     "iopub.execute_input": "2021-05-22T11:48:59.582823Z",
     "iopub.status.busy": "2021-05-22T11:48:59.582287Z",
     "iopub.status.idle": "2021-05-22T11:49:00.258899Z",
     "shell.execute_reply": "2021-05-22T11:49:00.258219Z",
     "shell.execute_reply.started": "2021-05-22T11:35:31.090917Z"
    },
    "papermill": {
     "duration": 0.725548,
     "end_time": "2021-05-22T11:49:00.259098",
     "exception": false,
     "start_time": "2021-05-22T11:48:59.533550",
     "status": "completed"
    },
    "tags": []
   },
   "outputs": [
    {
     "name": "stdout",
     "output_type": "stream",
     "text": [
      "/kaggle/input/house-prices-advanced-regression-techniques/sample_submission.csv\n",
      "/kaggle/input/house-prices-advanced-regression-techniques/data_description.txt\n",
      "/kaggle/input/house-prices-advanced-regression-techniques/train.csv\n",
      "/kaggle/input/house-prices-advanced-regression-techniques/test.csv\n"
     ]
    }
   ],
   "source": [
    "# This Python 3 environment comes with many helpful analytics libraries installed\n",
    "# It is defined by the kaggle/python Docker image: https://github.com/kaggle/docker-python\n",
    "# For example, here's several helpful packages to load\n",
    "\n",
    "import numpy as np # linear algebra\n",
    "import pandas as pd # data processing, CSV file I/O (e.g. pd.read_csv)\n",
    "import matplotlib.pyplot as plt\n",
    "import seaborn as sns\n",
    "\n",
    "# Input data files are available in the read-only \"../input/\" directory\n",
    "# For example, running this (by clicking run or pressing Shift+Enter) will list all files under the input directory\n",
    "\n",
    "import os\n",
    "for dirname, _, filenames in os.walk('/kaggle/input'):\n",
    "    for filename in filenames:\n",
    "        print(os.path.join(dirname, filename))\n",
    "\n",
    "# You can write up to 20GB to the current directory (/kaggle/working/) that gets preserved as output when you create a version using \"Save & Run All\" \n",
    "# You can also write temporary files to /kaggle/temp/, but they won't be saved outside of the current session"
   ]
  },
  {
   "cell_type": "code",
   "execution_count": 2,
   "id": "transsexual-caribbean",
   "metadata": {
    "execution": {
     "iopub.execute_input": "2021-05-22T11:49:00.347296Z",
     "iopub.status.busy": "2021-05-22T11:49:00.346754Z",
     "iopub.status.idle": "2021-05-22T11:49:00.411128Z",
     "shell.execute_reply": "2021-05-22T11:49:00.411547Z",
     "shell.execute_reply.started": "2021-05-22T11:35:31.169669Z"
    },
    "papermill": {
     "duration": 0.115812,
     "end_time": "2021-05-22T11:49:00.411684",
     "exception": false,
     "start_time": "2021-05-22T11:49:00.295872",
     "status": "completed"
    },
    "tags": []
   },
   "outputs": [
    {
     "data": {
      "text/html": [
       "<div>\n",
       "<style scoped>\n",
       "    .dataframe tbody tr th:only-of-type {\n",
       "        vertical-align: middle;\n",
       "    }\n",
       "\n",
       "    .dataframe tbody tr th {\n",
       "        vertical-align: top;\n",
       "    }\n",
       "\n",
       "    .dataframe thead th {\n",
       "        text-align: right;\n",
       "    }\n",
       "</style>\n",
       "<table border=\"1\" class=\"dataframe\">\n",
       "  <thead>\n",
       "    <tr style=\"text-align: right;\">\n",
       "      <th></th>\n",
       "      <th>Id</th>\n",
       "      <th>MSSubClass</th>\n",
       "      <th>MSZoning</th>\n",
       "      <th>LotFrontage</th>\n",
       "      <th>LotArea</th>\n",
       "      <th>Street</th>\n",
       "      <th>Alley</th>\n",
       "      <th>LotShape</th>\n",
       "      <th>LandContour</th>\n",
       "      <th>Utilities</th>\n",
       "      <th>...</th>\n",
       "      <th>PoolArea</th>\n",
       "      <th>PoolQC</th>\n",
       "      <th>Fence</th>\n",
       "      <th>MiscFeature</th>\n",
       "      <th>MiscVal</th>\n",
       "      <th>MoSold</th>\n",
       "      <th>YrSold</th>\n",
       "      <th>SaleType</th>\n",
       "      <th>SaleCondition</th>\n",
       "      <th>SalePrice</th>\n",
       "    </tr>\n",
       "  </thead>\n",
       "  <tbody>\n",
       "    <tr>\n",
       "      <th>0</th>\n",
       "      <td>1</td>\n",
       "      <td>60</td>\n",
       "      <td>RL</td>\n",
       "      <td>65.0</td>\n",
       "      <td>8450</td>\n",
       "      <td>Pave</td>\n",
       "      <td>NaN</td>\n",
       "      <td>Reg</td>\n",
       "      <td>Lvl</td>\n",
       "      <td>AllPub</td>\n",
       "      <td>...</td>\n",
       "      <td>0</td>\n",
       "      <td>NaN</td>\n",
       "      <td>NaN</td>\n",
       "      <td>NaN</td>\n",
       "      <td>0</td>\n",
       "      <td>2</td>\n",
       "      <td>2008</td>\n",
       "      <td>WD</td>\n",
       "      <td>Normal</td>\n",
       "      <td>208500</td>\n",
       "    </tr>\n",
       "    <tr>\n",
       "      <th>1</th>\n",
       "      <td>2</td>\n",
       "      <td>20</td>\n",
       "      <td>RL</td>\n",
       "      <td>80.0</td>\n",
       "      <td>9600</td>\n",
       "      <td>Pave</td>\n",
       "      <td>NaN</td>\n",
       "      <td>Reg</td>\n",
       "      <td>Lvl</td>\n",
       "      <td>AllPub</td>\n",
       "      <td>...</td>\n",
       "      <td>0</td>\n",
       "      <td>NaN</td>\n",
       "      <td>NaN</td>\n",
       "      <td>NaN</td>\n",
       "      <td>0</td>\n",
       "      <td>5</td>\n",
       "      <td>2007</td>\n",
       "      <td>WD</td>\n",
       "      <td>Normal</td>\n",
       "      <td>181500</td>\n",
       "    </tr>\n",
       "    <tr>\n",
       "      <th>2</th>\n",
       "      <td>3</td>\n",
       "      <td>60</td>\n",
       "      <td>RL</td>\n",
       "      <td>68.0</td>\n",
       "      <td>11250</td>\n",
       "      <td>Pave</td>\n",
       "      <td>NaN</td>\n",
       "      <td>IR1</td>\n",
       "      <td>Lvl</td>\n",
       "      <td>AllPub</td>\n",
       "      <td>...</td>\n",
       "      <td>0</td>\n",
       "      <td>NaN</td>\n",
       "      <td>NaN</td>\n",
       "      <td>NaN</td>\n",
       "      <td>0</td>\n",
       "      <td>9</td>\n",
       "      <td>2008</td>\n",
       "      <td>WD</td>\n",
       "      <td>Normal</td>\n",
       "      <td>223500</td>\n",
       "    </tr>\n",
       "    <tr>\n",
       "      <th>3</th>\n",
       "      <td>4</td>\n",
       "      <td>70</td>\n",
       "      <td>RL</td>\n",
       "      <td>60.0</td>\n",
       "      <td>9550</td>\n",
       "      <td>Pave</td>\n",
       "      <td>NaN</td>\n",
       "      <td>IR1</td>\n",
       "      <td>Lvl</td>\n",
       "      <td>AllPub</td>\n",
       "      <td>...</td>\n",
       "      <td>0</td>\n",
       "      <td>NaN</td>\n",
       "      <td>NaN</td>\n",
       "      <td>NaN</td>\n",
       "      <td>0</td>\n",
       "      <td>2</td>\n",
       "      <td>2006</td>\n",
       "      <td>WD</td>\n",
       "      <td>Abnorml</td>\n",
       "      <td>140000</td>\n",
       "    </tr>\n",
       "    <tr>\n",
       "      <th>4</th>\n",
       "      <td>5</td>\n",
       "      <td>60</td>\n",
       "      <td>RL</td>\n",
       "      <td>84.0</td>\n",
       "      <td>14260</td>\n",
       "      <td>Pave</td>\n",
       "      <td>NaN</td>\n",
       "      <td>IR1</td>\n",
       "      <td>Lvl</td>\n",
       "      <td>AllPub</td>\n",
       "      <td>...</td>\n",
       "      <td>0</td>\n",
       "      <td>NaN</td>\n",
       "      <td>NaN</td>\n",
       "      <td>NaN</td>\n",
       "      <td>0</td>\n",
       "      <td>12</td>\n",
       "      <td>2008</td>\n",
       "      <td>WD</td>\n",
       "      <td>Normal</td>\n",
       "      <td>250000</td>\n",
       "    </tr>\n",
       "  </tbody>\n",
       "</table>\n",
       "<p>5 rows × 81 columns</p>\n",
       "</div>"
      ],
      "text/plain": [
       "   Id  MSSubClass MSZoning  LotFrontage  LotArea Street Alley LotShape  \\\n",
       "0   1          60       RL         65.0     8450   Pave   NaN      Reg   \n",
       "1   2          20       RL         80.0     9600   Pave   NaN      Reg   \n",
       "2   3          60       RL         68.0    11250   Pave   NaN      IR1   \n",
       "3   4          70       RL         60.0     9550   Pave   NaN      IR1   \n",
       "4   5          60       RL         84.0    14260   Pave   NaN      IR1   \n",
       "\n",
       "  LandContour Utilities  ... PoolArea PoolQC Fence MiscFeature MiscVal MoSold  \\\n",
       "0         Lvl    AllPub  ...        0    NaN   NaN         NaN       0      2   \n",
       "1         Lvl    AllPub  ...        0    NaN   NaN         NaN       0      5   \n",
       "2         Lvl    AllPub  ...        0    NaN   NaN         NaN       0      9   \n",
       "3         Lvl    AllPub  ...        0    NaN   NaN         NaN       0      2   \n",
       "4         Lvl    AllPub  ...        0    NaN   NaN         NaN       0     12   \n",
       "\n",
       "  YrSold  SaleType  SaleCondition  SalePrice  \n",
       "0   2008        WD         Normal     208500  \n",
       "1   2007        WD         Normal     181500  \n",
       "2   2008        WD         Normal     223500  \n",
       "3   2006        WD        Abnorml     140000  \n",
       "4   2008        WD         Normal     250000  \n",
       "\n",
       "[5 rows x 81 columns]"
      ]
     },
     "execution_count": 2,
     "metadata": {},
     "output_type": "execute_result"
    }
   ],
   "source": [
    "df = pd.read_csv(\"/kaggle/input/house-prices-advanced-regression-techniques/train.csv\")\n",
    "df.head()"
   ]
  },
  {
   "cell_type": "code",
   "execution_count": 3,
   "id": "pharmaceutical-springer",
   "metadata": {
    "execution": {
     "iopub.execute_input": "2021-05-22T11:49:00.490058Z",
     "iopub.status.busy": "2021-05-22T11:49:00.489504Z",
     "iopub.status.idle": "2021-05-22T11:49:00.541487Z",
     "shell.execute_reply": "2021-05-22T11:49:00.541007Z",
     "shell.execute_reply.started": "2021-05-22T11:35:31.397545Z"
    },
    "papermill": {
     "duration": 0.092705,
     "end_time": "2021-05-22T11:49:00.541601",
     "exception": false,
     "start_time": "2021-05-22T11:49:00.448896",
     "status": "completed"
    },
    "tags": []
   },
   "outputs": [
    {
     "data": {
      "text/html": [
       "<div>\n",
       "<style scoped>\n",
       "    .dataframe tbody tr th:only-of-type {\n",
       "        vertical-align: middle;\n",
       "    }\n",
       "\n",
       "    .dataframe tbody tr th {\n",
       "        vertical-align: top;\n",
       "    }\n",
       "\n",
       "    .dataframe thead th {\n",
       "        text-align: right;\n",
       "    }\n",
       "</style>\n",
       "<table border=\"1\" class=\"dataframe\">\n",
       "  <thead>\n",
       "    <tr style=\"text-align: right;\">\n",
       "      <th></th>\n",
       "      <th>Id</th>\n",
       "      <th>MSSubClass</th>\n",
       "      <th>MSZoning</th>\n",
       "      <th>LotFrontage</th>\n",
       "      <th>LotArea</th>\n",
       "      <th>Street</th>\n",
       "      <th>Alley</th>\n",
       "      <th>LotShape</th>\n",
       "      <th>LandContour</th>\n",
       "      <th>Utilities</th>\n",
       "      <th>...</th>\n",
       "      <th>ScreenPorch</th>\n",
       "      <th>PoolArea</th>\n",
       "      <th>PoolQC</th>\n",
       "      <th>Fence</th>\n",
       "      <th>MiscFeature</th>\n",
       "      <th>MiscVal</th>\n",
       "      <th>MoSold</th>\n",
       "      <th>YrSold</th>\n",
       "      <th>SaleType</th>\n",
       "      <th>SaleCondition</th>\n",
       "    </tr>\n",
       "  </thead>\n",
       "  <tbody>\n",
       "    <tr>\n",
       "      <th>0</th>\n",
       "      <td>1461</td>\n",
       "      <td>20</td>\n",
       "      <td>RH</td>\n",
       "      <td>80.0</td>\n",
       "      <td>11622</td>\n",
       "      <td>Pave</td>\n",
       "      <td>NaN</td>\n",
       "      <td>Reg</td>\n",
       "      <td>Lvl</td>\n",
       "      <td>AllPub</td>\n",
       "      <td>...</td>\n",
       "      <td>120</td>\n",
       "      <td>0</td>\n",
       "      <td>NaN</td>\n",
       "      <td>MnPrv</td>\n",
       "      <td>NaN</td>\n",
       "      <td>0</td>\n",
       "      <td>6</td>\n",
       "      <td>2010</td>\n",
       "      <td>WD</td>\n",
       "      <td>Normal</td>\n",
       "    </tr>\n",
       "    <tr>\n",
       "      <th>1</th>\n",
       "      <td>1462</td>\n",
       "      <td>20</td>\n",
       "      <td>RL</td>\n",
       "      <td>81.0</td>\n",
       "      <td>14267</td>\n",
       "      <td>Pave</td>\n",
       "      <td>NaN</td>\n",
       "      <td>IR1</td>\n",
       "      <td>Lvl</td>\n",
       "      <td>AllPub</td>\n",
       "      <td>...</td>\n",
       "      <td>0</td>\n",
       "      <td>0</td>\n",
       "      <td>NaN</td>\n",
       "      <td>NaN</td>\n",
       "      <td>Gar2</td>\n",
       "      <td>12500</td>\n",
       "      <td>6</td>\n",
       "      <td>2010</td>\n",
       "      <td>WD</td>\n",
       "      <td>Normal</td>\n",
       "    </tr>\n",
       "    <tr>\n",
       "      <th>2</th>\n",
       "      <td>1463</td>\n",
       "      <td>60</td>\n",
       "      <td>RL</td>\n",
       "      <td>74.0</td>\n",
       "      <td>13830</td>\n",
       "      <td>Pave</td>\n",
       "      <td>NaN</td>\n",
       "      <td>IR1</td>\n",
       "      <td>Lvl</td>\n",
       "      <td>AllPub</td>\n",
       "      <td>...</td>\n",
       "      <td>0</td>\n",
       "      <td>0</td>\n",
       "      <td>NaN</td>\n",
       "      <td>MnPrv</td>\n",
       "      <td>NaN</td>\n",
       "      <td>0</td>\n",
       "      <td>3</td>\n",
       "      <td>2010</td>\n",
       "      <td>WD</td>\n",
       "      <td>Normal</td>\n",
       "    </tr>\n",
       "    <tr>\n",
       "      <th>3</th>\n",
       "      <td>1464</td>\n",
       "      <td>60</td>\n",
       "      <td>RL</td>\n",
       "      <td>78.0</td>\n",
       "      <td>9978</td>\n",
       "      <td>Pave</td>\n",
       "      <td>NaN</td>\n",
       "      <td>IR1</td>\n",
       "      <td>Lvl</td>\n",
       "      <td>AllPub</td>\n",
       "      <td>...</td>\n",
       "      <td>0</td>\n",
       "      <td>0</td>\n",
       "      <td>NaN</td>\n",
       "      <td>NaN</td>\n",
       "      <td>NaN</td>\n",
       "      <td>0</td>\n",
       "      <td>6</td>\n",
       "      <td>2010</td>\n",
       "      <td>WD</td>\n",
       "      <td>Normal</td>\n",
       "    </tr>\n",
       "    <tr>\n",
       "      <th>4</th>\n",
       "      <td>1465</td>\n",
       "      <td>120</td>\n",
       "      <td>RL</td>\n",
       "      <td>43.0</td>\n",
       "      <td>5005</td>\n",
       "      <td>Pave</td>\n",
       "      <td>NaN</td>\n",
       "      <td>IR1</td>\n",
       "      <td>HLS</td>\n",
       "      <td>AllPub</td>\n",
       "      <td>...</td>\n",
       "      <td>144</td>\n",
       "      <td>0</td>\n",
       "      <td>NaN</td>\n",
       "      <td>NaN</td>\n",
       "      <td>NaN</td>\n",
       "      <td>0</td>\n",
       "      <td>1</td>\n",
       "      <td>2010</td>\n",
       "      <td>WD</td>\n",
       "      <td>Normal</td>\n",
       "    </tr>\n",
       "  </tbody>\n",
       "</table>\n",
       "<p>5 rows × 80 columns</p>\n",
       "</div>"
      ],
      "text/plain": [
       "     Id  MSSubClass MSZoning  LotFrontage  LotArea Street Alley LotShape  \\\n",
       "0  1461          20       RH         80.0    11622   Pave   NaN      Reg   \n",
       "1  1462          20       RL         81.0    14267   Pave   NaN      IR1   \n",
       "2  1463          60       RL         74.0    13830   Pave   NaN      IR1   \n",
       "3  1464          60       RL         78.0     9978   Pave   NaN      IR1   \n",
       "4  1465         120       RL         43.0     5005   Pave   NaN      IR1   \n",
       "\n",
       "  LandContour Utilities  ... ScreenPorch PoolArea PoolQC  Fence MiscFeature  \\\n",
       "0         Lvl    AllPub  ...         120        0    NaN  MnPrv         NaN   \n",
       "1         Lvl    AllPub  ...           0        0    NaN    NaN        Gar2   \n",
       "2         Lvl    AllPub  ...           0        0    NaN  MnPrv         NaN   \n",
       "3         Lvl    AllPub  ...           0        0    NaN    NaN         NaN   \n",
       "4         HLS    AllPub  ...         144        0    NaN    NaN         NaN   \n",
       "\n",
       "  MiscVal MoSold  YrSold  SaleType  SaleCondition  \n",
       "0       0      6    2010        WD         Normal  \n",
       "1   12500      6    2010        WD         Normal  \n",
       "2       0      3    2010        WD         Normal  \n",
       "3       0      6    2010        WD         Normal  \n",
       "4       0      1    2010        WD         Normal  \n",
       "\n",
       "[5 rows x 80 columns]"
      ]
     },
     "execution_count": 3,
     "metadata": {},
     "output_type": "execute_result"
    }
   ],
   "source": [
    "df_test = pd.read_csv(\"/kaggle/input/house-prices-advanced-regression-techniques/test.csv\")\n",
    "df_test.head()"
   ]
  },
  {
   "cell_type": "code",
   "execution_count": 4,
   "id": "liable-recipe",
   "metadata": {
    "execution": {
     "iopub.execute_input": "2021-05-22T11:49:00.619104Z",
     "iopub.status.busy": "2021-05-22T11:49:00.618378Z",
     "iopub.status.idle": "2021-05-22T11:49:00.621504Z",
     "shell.execute_reply": "2021-05-22T11:49:00.621925Z",
     "shell.execute_reply.started": "2021-05-22T11:35:31.466136Z"
    },
    "papermill": {
     "duration": 0.043465,
     "end_time": "2021-05-22T11:49:00.622047",
     "exception": false,
     "start_time": "2021-05-22T11:49:00.578582",
     "status": "completed"
    },
    "tags": []
   },
   "outputs": [
    {
     "data": {
      "text/plain": [
       "(1460, 81)"
      ]
     },
     "execution_count": 4,
     "metadata": {},
     "output_type": "execute_result"
    }
   ],
   "source": [
    "df.shape # 1460 rows and 81 columns"
   ]
  },
  {
   "cell_type": "code",
   "execution_count": 5,
   "id": "matched-jewelry",
   "metadata": {
    "execution": {
     "iopub.execute_input": "2021-05-22T11:49:00.704427Z",
     "iopub.status.busy": "2021-05-22T11:49:00.703859Z",
     "iopub.status.idle": "2021-05-22T11:49:01.111482Z",
     "shell.execute_reply": "2021-05-22T11:49:01.110983Z",
     "shell.execute_reply.started": "2021-05-22T11:35:31.479520Z"
    },
    "papermill": {
     "duration": 0.452435,
     "end_time": "2021-05-22T11:49:01.111598",
     "exception": false,
     "start_time": "2021-05-22T11:49:00.659163",
     "status": "completed"
    },
    "tags": []
   },
   "outputs": [
    {
     "data": {
      "text/plain": [
       "<AxesSubplot:>"
      ]
     },
     "execution_count": 5,
     "metadata": {},
     "output_type": "execute_result"
    },
    {
     "data": {
      "image/png": "[encoded data removed]",
      "text/plain": [
       "<Figure size 432x288 with 1 Axes>"
      ]
     },
     "metadata": {
      "needs_background": "light"
     },
     "output_type": "display_data"
    }
   ],
   "source": [
    "#train data\n",
    "sns.heatmap(df.isnull(), yticklabels=False, cbar=False, cmap='YlGnBu')"
   ]
  },
  {
   "cell_type": "code",
   "execution_count": 6,
   "id": "invisible-pierre",
   "metadata": {
    "execution": {
     "iopub.execute_input": "2021-05-22T11:49:01.197876Z",
     "iopub.status.busy": "2021-05-22T11:49:01.197171Z",
     "iopub.status.idle": "2021-05-22T11:49:01.200665Z",
     "shell.execute_reply": "2021-05-22T11:49:01.201122Z",
     "shell.execute_reply.started": "2021-05-22T11:35:31.895966Z"
    },
    "papermill": {
     "duration": 0.051533,
     "end_time": "2021-05-22T11:49:01.201249",
     "exception": false,
     "start_time": "2021-05-22T11:49:01.149716",
     "status": "completed"
    },
    "tags": []
   },
   "outputs": [
    {
     "name": "stdout",
     "output_type": "stream",
     "text": [
      "['LotFrontage', 'Alley', 'MasVnrType', 'MasVnrArea', 'BsmtQual', 'BsmtCond', 'BsmtExposure', 'BsmtFinType1', 'BsmtFinType2', 'Electrical', 'FireplaceQu', 'GarageType', 'GarageYrBlt', 'GarageFinish', 'GarageQual', 'GarageCond', 'PoolQC', 'Fence', 'MiscFeature']\n",
      "19\n"
     ]
    }
   ],
   "source": [
    "# columns with null values in train data\n",
    "columns_with_null_values = df.columns[df.isnull().any()].tolist()\n",
    "print(columns_with_null_values)\n",
    "print(len(columns_with_null_values))"
   ]
  },
  {
   "cell_type": "code",
   "execution_count": 7,
   "id": "fatal-short",
   "metadata": {
    "execution": {
     "iopub.execute_input": "2021-05-22T11:49:01.287295Z",
     "iopub.status.busy": "2021-05-22T11:49:01.286491Z",
     "iopub.status.idle": "2021-05-22T11:49:01.291097Z",
     "shell.execute_reply": "2021-05-22T11:49:01.290676Z",
     "shell.execute_reply.started": "2021-05-22T11:35:31.908901Z"
    },
    "papermill": {
     "duration": 0.051826,
     "end_time": "2021-05-22T11:49:01.291206",
     "exception": false,
     "start_time": "2021-05-22T11:49:01.239380",
     "status": "completed"
    },
    "tags": []
   },
   "outputs": [
    {
     "name": "stdout",
     "output_type": "stream",
     "text": [
      "['MSZoning', 'LotFrontage', 'Alley', 'Utilities', 'Exterior1st', 'Exterior2nd', 'MasVnrType', 'MasVnrArea', 'BsmtQual', 'BsmtCond', 'BsmtExposure', 'BsmtFinType1', 'BsmtFinSF1', 'BsmtFinType2', 'BsmtFinSF2', 'BsmtUnfSF', 'TotalBsmtSF', 'BsmtFullBath', 'BsmtHalfBath', 'KitchenQual', 'Functional', 'FireplaceQu', 'GarageType', 'GarageYrBlt', 'GarageFinish', 'GarageCars', 'GarageArea', 'GarageQual', 'GarageCond', 'PoolQC', 'Fence', 'MiscFeature', 'SaleType']\n",
      "33\n"
     ]
    }
   ],
   "source": [
    "#columns with null values in test data\n",
    "columns_with_null_values = df_test.columns[df_test.isnull().any()].tolist()\n",
    "print(columns_with_null_values)\n",
    "print(len(columns_with_null_values))"
   ]
  },
  {
   "cell_type": "code",
   "execution_count": 8,
   "id": "mental-return",
   "metadata": {
    "execution": {
     "iopub.execute_input": "2021-05-22T11:49:01.381657Z",
     "iopub.status.busy": "2021-05-22T11:49:01.380844Z",
     "iopub.status.idle": "2021-05-22T11:49:01.389641Z",
     "shell.execute_reply": "2021-05-22T11:49:01.390150Z",
     "shell.execute_reply.started": "2021-05-22T11:35:31.924159Z"
    },
    "papermill": {
     "duration": 0.057064,
     "end_time": "2021-05-22T11:49:01.390280",
     "exception": false,
     "start_time": "2021-05-22T11:49:01.333216",
     "status": "completed"
    },
    "tags": []
   },
   "outputs": [
    {
     "data": {
      "text/plain": [
       "PoolQC          1453\n",
       "MiscFeature     1406\n",
       "Alley           1369\n",
       "Fence           1179\n",
       "FireplaceQu      690\n",
       "LotFrontage      259\n",
       "GarageYrBlt       81\n",
       "GarageType        81\n",
       "GarageFinish      81\n",
       "GarageQual        81\n",
       "GarageCond        81\n",
       "BsmtFinType2      38\n",
       "BsmtExposure      38\n",
       "BsmtFinType1      37\n",
       "BsmtCond          37\n",
       "BsmtQual          37\n",
       "MasVnrArea         8\n",
       "MasVnrType         8\n",
       "Electrical         1\n",
       "dtype: int64"
      ]
     },
     "execution_count": 8,
     "metadata": {},
     "output_type": "execute_result"
    }
   ],
   "source": [
    "#columns with null values count\n",
    "#Returning the columns having null values\n",
    "df[df.columns[df.isnull().any()]].isnull().sum().sort_values(ascending=False)"
   ]
  },
  {
   "cell_type": "code",
   "execution_count": 9,
   "id": "polished-trail",
   "metadata": {
    "execution": {
     "iopub.execute_input": "2021-05-22T11:49:01.476715Z",
     "iopub.status.busy": "2021-05-22T11:49:01.475926Z",
     "iopub.status.idle": "2021-05-22T11:49:01.486244Z",
     "shell.execute_reply": "2021-05-22T11:49:01.485821Z",
     "shell.execute_reply.started": "2021-05-22T11:35:31.944442Z"
    },
    "papermill": {
     "duration": 0.05745,
     "end_time": "2021-05-22T11:49:01.486355",
     "exception": false,
     "start_time": "2021-05-22T11:49:01.428905",
     "status": "completed"
    },
    "tags": []
   },
   "outputs": [
    {
     "data": {
      "text/plain": [
       "PoolQC          1456\n",
       "MiscFeature     1408\n",
       "Alley           1352\n",
       "Fence           1169\n",
       "FireplaceQu      730\n",
       "LotFrontage      227\n",
       "GarageYrBlt       78\n",
       "GarageCond        78\n",
       "GarageQual        78\n",
       "GarageFinish      78\n",
       "GarageType        76\n",
       "BsmtCond          45\n",
       "BsmtExposure      44\n",
       "BsmtQual          44\n",
       "BsmtFinType1      42\n",
       "BsmtFinType2      42\n",
       "MasVnrType        16\n",
       "MasVnrArea        15\n",
       "MSZoning           4\n",
       "BsmtFullBath       2\n",
       "BsmtHalfBath       2\n",
       "Utilities          2\n",
       "Functional         2\n",
       "Exterior2nd        1\n",
       "Exterior1st        1\n",
       "SaleType           1\n",
       "BsmtFinSF1         1\n",
       "BsmtFinSF2         1\n",
       "BsmtUnfSF          1\n",
       "KitchenQual        1\n",
       "GarageCars         1\n",
       "GarageArea         1\n",
       "TotalBsmtSF        1\n",
       "dtype: int64"
      ]
     },
     "execution_count": 9,
     "metadata": {},
     "output_type": "execute_result"
    }
   ],
   "source": [
    "#columns with null values count Test data\n",
    "#Returning the columns having null values\n",
    "df_test[df_test.columns[df_test.isnull().any()]].isnull().sum().sort_values(ascending=False)"
   ]
  },
  {
   "cell_type": "code",
   "execution_count": 10,
   "id": "official-network",
   "metadata": {
    "execution": {
     "iopub.execute_input": "2021-05-22T11:49:01.574935Z",
     "iopub.status.busy": "2021-05-22T11:49:01.574148Z",
     "iopub.status.idle": "2021-05-22T11:49:01.594202Z",
     "shell.execute_reply": "2021-05-22T11:49:01.593809Z",
     "shell.execute_reply.started": "2021-05-22T11:35:31.964521Z"
    },
    "papermill": {
     "duration": 0.067814,
     "end_time": "2021-05-22T11:49:01.594307",
     "exception": false,
     "start_time": "2021-05-22T11:49:01.526493",
     "status": "completed"
    },
    "tags": []
   },
   "outputs": [
    {
     "data": {
      "text/plain": [
       "LotFrontage     False\n",
       "Alley            True\n",
       "MasVnrType      False\n",
       "MasVnrArea      False\n",
       "BsmtQual        False\n",
       "BsmtCond        False\n",
       "BsmtExposure    False\n",
       "BsmtFinType1    False\n",
       "BsmtFinType2    False\n",
       "Electrical      False\n",
       "FireplaceQu     False\n",
       "GarageType      False\n",
       "GarageYrBlt     False\n",
       "GarageFinish    False\n",
       "GarageQual      False\n",
       "GarageCond      False\n",
       "PoolQC           True\n",
       "Fence            True\n",
       "MiscFeature      True\n",
       "dtype: bool"
      ]
     },
     "execution_count": 10,
     "metadata": {},
     "output_type": "execute_result"
    }
   ],
   "source": [
    "# having null values greater than equals to 50%\n",
    "df[df.columns[df.isnull().any()]].isnull().sum()/df.shape[0] > 0.5"
   ]
  },
  {
   "cell_type": "code",
   "execution_count": 11,
   "id": "anticipated-assault",
   "metadata": {
    "execution": {
     "iopub.execute_input": "2021-05-22T11:49:01.682183Z",
     "iopub.status.busy": "2021-05-22T11:49:01.681477Z",
     "iopub.status.idle": "2021-05-22T11:49:01.690511Z",
     "shell.execute_reply": "2021-05-22T11:49:01.690968Z",
     "shell.execute_reply.started": "2021-05-22T11:35:31.997585Z"
    },
    "papermill": {
     "duration": 0.057694,
     "end_time": "2021-05-22T11:49:01.691091",
     "exception": false,
     "start_time": "2021-05-22T11:49:01.633397",
     "status": "completed"
    },
    "tags": []
   },
   "outputs": [
    {
     "data": {
      "text/plain": [
       "MSZoning        False\n",
       "LotFrontage     False\n",
       "Alley            True\n",
       "Utilities       False\n",
       "Exterior1st     False\n",
       "Exterior2nd     False\n",
       "MasVnrType      False\n",
       "MasVnrArea      False\n",
       "BsmtQual        False\n",
       "BsmtCond        False\n",
       "BsmtExposure    False\n",
       "BsmtFinType1    False\n",
       "BsmtFinSF1      False\n",
       "BsmtFinType2    False\n",
       "BsmtFinSF2      False\n",
       "BsmtUnfSF       False\n",
       "TotalBsmtSF     False\n",
       "BsmtFullBath    False\n",
       "BsmtHalfBath    False\n",
       "KitchenQual     False\n",
       "Functional      False\n",
       "FireplaceQu      True\n",
       "GarageType      False\n",
       "GarageYrBlt     False\n",
       "GarageFinish    False\n",
       "GarageCars      False\n",
       "GarageArea      False\n",
       "GarageQual      False\n",
       "GarageCond      False\n",
       "PoolQC           True\n",
       "Fence            True\n",
       "MiscFeature      True\n",
       "SaleType        False\n",
       "dtype: bool"
      ]
     },
     "execution_count": 11,
     "metadata": {},
     "output_type": "execute_result"
    }
   ],
   "source": [
    "# having null values greater than equals to 50%\n",
    "df_test[df_test.columns[df_test.isnull().any()]].isnull().sum()/df_test.shape[0] > 0.5"
   ]
  },
  {
   "cell_type": "code",
   "execution_count": 12,
   "id": "headed-quality",
   "metadata": {
    "execution": {
     "iopub.execute_input": "2021-05-22T11:49:01.776570Z",
     "iopub.status.busy": "2021-05-22T11:49:01.775889Z",
     "iopub.status.idle": "2021-05-22T11:49:01.778792Z",
     "shell.execute_reply": "2021-05-22T11:49:01.779237Z",
     "shell.execute_reply.started": "2021-05-22T11:35:32.017912Z"
    },
    "papermill": {
     "duration": 0.049044,
     "end_time": "2021-05-22T11:49:01.779356",
     "exception": false,
     "start_time": "2021-05-22T11:49:01.730312",
     "status": "completed"
    },
    "tags": []
   },
   "outputs": [],
   "source": [
    "#from the above \n",
    "high_null_values =['Alley', 'PoolQC', 'Fence', 'MiscFeature']\n",
    "#removing the columns which have more than 50% null values\n",
    "df.drop(high_null_values, axis=1, inplace=True)\n",
    "#Removing same values in test_data as in both datasets these columns having high null values\n",
    "df_test.drop(high_null_values, axis=1, inplace=True)"
   ]
  },
  {
   "cell_type": "code",
   "execution_count": 13,
   "id": "material-explanation",
   "metadata": {
    "execution": {
     "iopub.execute_input": "2021-05-22T11:49:01.866823Z",
     "iopub.status.busy": "2021-05-22T11:49:01.866009Z",
     "iopub.status.idle": "2021-05-22T11:49:01.874885Z",
     "shell.execute_reply": "2021-05-22T11:49:01.874434Z",
     "shell.execute_reply.started": "2021-05-22T11:35:32.028427Z"
    },
    "papermill": {
     "duration": 0.056316,
     "end_time": "2021-05-22T11:49:01.874989",
     "exception": false,
     "start_time": "2021-05-22T11:49:01.818673",
     "status": "completed"
    },
    "tags": []
   },
   "outputs": [
    {
     "data": {
      "text/plain": [
       "LotFrontage     False\n",
       "MasVnrType      False\n",
       "MasVnrArea      False\n",
       "BsmtQual        False\n",
       "BsmtCond        False\n",
       "BsmtExposure    False\n",
       "BsmtFinType1    False\n",
       "BsmtFinType2    False\n",
       "Electrical      False\n",
       "FireplaceQu     False\n",
       "GarageType      False\n",
       "GarageYrBlt     False\n",
       "GarageFinish    False\n",
       "GarageQual      False\n",
       "GarageCond      False\n",
       "dtype: bool"
      ]
     },
     "execution_count": 13,
     "metadata": {},
     "output_type": "execute_result"
    }
   ],
   "source": [
    "#sanity check after dropping above columns\n",
    "df[df.columns[df.isnull().any()]].isnull().sum()/df.shape[0] > 0.5"
   ]
  },
  {
   "cell_type": "code",
   "execution_count": 14,
   "id": "stable-antenna",
   "metadata": {
    "execution": {
     "iopub.execute_input": "2021-05-22T11:49:01.963650Z",
     "iopub.status.busy": "2021-05-22T11:49:01.962876Z",
     "iopub.status.idle": "2021-05-22T11:49:01.972798Z",
     "shell.execute_reply": "2021-05-22T11:49:01.972368Z",
     "shell.execute_reply.started": "2021-05-22T11:35:32.047983Z"
    },
    "papermill": {
     "duration": 0.057662,
     "end_time": "2021-05-22T11:49:01.972902",
     "exception": false,
     "start_time": "2021-05-22T11:49:01.915240",
     "status": "completed"
    },
    "tags": []
   },
   "outputs": [
    {
     "data": {
      "text/plain": [
       "MSZoning        False\n",
       "LotFrontage     False\n",
       "Utilities       False\n",
       "Exterior1st     False\n",
       "Exterior2nd     False\n",
       "MasVnrType      False\n",
       "MasVnrArea      False\n",
       "BsmtQual        False\n",
       "BsmtCond        False\n",
       "BsmtExposure    False\n",
       "BsmtFinType1    False\n",
       "BsmtFinSF1      False\n",
       "BsmtFinType2    False\n",
       "BsmtFinSF2      False\n",
       "BsmtUnfSF       False\n",
       "TotalBsmtSF     False\n",
       "BsmtFullBath    False\n",
       "BsmtHalfBath    False\n",
       "KitchenQual     False\n",
       "Functional      False\n",
       "FireplaceQu      True\n",
       "GarageType      False\n",
       "GarageYrBlt     False\n",
       "GarageFinish    False\n",
       "GarageCars      False\n",
       "GarageArea      False\n",
       "GarageQual      False\n",
       "GarageCond      False\n",
       "SaleType        False\n",
       "dtype: bool"
      ]
     },
     "execution_count": 14,
     "metadata": {},
     "output_type": "execute_result"
    }
   ],
   "source": [
    "#sanity check after dropping above columns\n",
    "df_test[df_test.columns[df_test.isnull().any()]].isnull().sum()/df_test.shape[0] > 0.5"
   ]
  },
  {
   "cell_type": "code",
   "execution_count": 15,
   "id": "consecutive-marina",
   "metadata": {
    "execution": {
     "iopub.execute_input": "2021-05-22T11:49:02.063874Z",
     "iopub.status.busy": "2021-05-22T11:49:02.063060Z",
     "iopub.status.idle": "2021-05-22T11:49:02.509328Z",
     "shell.execute_reply": "2021-05-22T11:49:02.510327Z",
     "shell.execute_reply.started": "2021-05-22T11:35:32.068522Z"
    },
    "papermill": {
     "duration": 0.496853,
     "end_time": "2021-05-22T11:49:02.510535",
     "exception": false,
     "start_time": "2021-05-22T11:49:02.013682",
     "status": "completed"
    },
    "tags": []
   },
   "outputs": [
    {
     "data": {
      "text/plain": [
       "<AxesSubplot:>"
      ]
     },
     "execution_count": 15,
     "metadata": {},
     "output_type": "execute_result"
    },
    {
     "data": {
      "image/png": "[encoded data removed]",
      "text/plain": [
       "<Figure size 432x288 with 1 Axes>"
      ]
     },
     "metadata": {
      "needs_background": "light"
     },
     "output_type": "display_data"
    }
   ],
   "source": [
    "sns.heatmap(df.isnull(),yticklabels=False,cbar=False,cmap='coolwarm')"
   ]
  },
  {
   "cell_type": "code",
   "execution_count": 16,
   "id": "disabled-ordinary",
   "metadata": {
    "execution": {
     "iopub.execute_input": "2021-05-22T11:49:02.862887Z",
     "iopub.status.busy": "2021-05-22T11:49:02.862094Z",
     "iopub.status.idle": "2021-05-22T11:49:02.877667Z",
     "shell.execute_reply": "2021-05-22T11:49:02.873326Z",
     "shell.execute_reply.started": "2021-05-22T11:35:32.438254Z"
    },
    "papermill": {
     "duration": 0.164095,
     "end_time": "2021-05-22T11:49:02.877838",
     "exception": false,
     "start_time": "2021-05-22T11:49:02.713743",
     "status": "completed"
    },
    "tags": []
   },
   "outputs": [],
   "source": [
    "#filling missing values\n",
    "df['LotFrontage']=df['LotFrontage'].fillna(df['LotFrontage'].mean())\n",
    "df_test['LotFrontage']=df_test['LotFrontage'].fillna(df_test['LotFrontage'].mean())\n"
   ]
  },
  {
   "cell_type": "code",
   "execution_count": 17,
   "id": "native-zimbabwe",
   "metadata": {
    "execution": {
     "iopub.execute_input": "2021-05-22T11:49:03.092907Z",
     "iopub.status.busy": "2021-05-22T11:49:03.092146Z",
     "iopub.status.idle": "2021-05-22T11:49:03.103378Z",
     "shell.execute_reply": "2021-05-22T11:49:03.104311Z",
     "shell.execute_reply.started": "2021-05-22T11:35:32.446452Z"
    },
    "papermill": {
     "duration": 0.096639,
     "end_time": "2021-05-22T11:49:03.104484",
     "exception": false,
     "start_time": "2021-05-22T11:49:03.007845",
     "status": "completed"
    },
    "tags": []
   },
   "outputs": [],
   "source": [
    "df['BsmtCond']=df['BsmtCond'].fillna(df['BsmtCond'].mode()[0])\n",
    "df['BsmtQual']=df['BsmtQual'].fillna(df['BsmtQual'].mode()[0])\n",
    "\n",
    "df['FireplaceQu']=df['FireplaceQu'].fillna(df['FireplaceQu'].mode()[0])\n",
    "df['GarageType']=df['GarageType'].fillna(df['GarageType'].mode()[0])\n",
    "\n",
    "df['GarageFinish']=df['GarageFinish'].fillna(df['GarageFinish'].mode()[0])\n",
    "df['GarageQual']=df['GarageQual'].fillna(df['GarageQual'].mode()[0])\n",
    "df['GarageCond']=df['GarageCond'].fillna(df['GarageCond'].mode()[0])"
   ]
  },
  {
   "cell_type": "code",
   "execution_count": 18,
   "id": "previous-legend",
   "metadata": {
    "execution": {
     "iopub.execute_input": "2021-05-22T11:49:03.257133Z",
     "iopub.status.busy": "2021-05-22T11:49:03.256383Z",
     "iopub.status.idle": "2021-05-22T11:49:03.268956Z",
     "shell.execute_reply": "2021-05-22T11:49:03.270020Z",
     "shell.execute_reply.started": "2021-05-22T11:35:32.464816Z"
    },
    "papermill": {
     "duration": 0.094149,
     "end_time": "2021-05-22T11:49:03.270200",
     "exception": false,
     "start_time": "2021-05-22T11:49:03.176051",
     "status": "completed"
    },
    "tags": []
   },
   "outputs": [],
   "source": [
    "df_test['BsmtCond']=df_test['BsmtCond'].fillna(df_test['BsmtCond'].mode()[0])\n",
    "df_test['BsmtQual']=df_test['BsmtQual'].fillna(df_test['BsmtQual'].mode()[0])\n",
    "\n",
    "df_test['FireplaceQu']=df_test['FireplaceQu'].fillna(df_test['FireplaceQu'].mode()[0])\n",
    "df_test['GarageType']=df_test['GarageType'].fillna(df_test['GarageType'].mode()[0])\n",
    "\n",
    "df_test['GarageFinish']=df_test['GarageFinish'].fillna(df_test['GarageFinish'].mode()[0])\n",
    "df_test['GarageQual']=df_test['GarageQual'].fillna(df_test['GarageQual'].mode()[0])\n",
    "df_test['GarageCond']=df_test['GarageCond'].fillna(df_test['GarageCond'].mode()[0])"
   ]
  },
  {
   "cell_type": "code",
   "execution_count": 19,
   "id": "listed-flight",
   "metadata": {
    "execution": {
     "iopub.execute_input": "2021-05-22T11:49:03.424877Z",
     "iopub.status.busy": "2021-05-22T11:49:03.424134Z",
     "iopub.status.idle": "2021-05-22T11:49:03.428441Z",
     "shell.execute_reply": "2021-05-22T11:49:03.428997Z",
     "shell.execute_reply.started": "2021-05-22T11:35:32.480760Z"
    },
    "papermill": {
     "duration": 0.086052,
     "end_time": "2021-05-22T11:49:03.429182",
     "exception": false,
     "start_time": "2021-05-22T11:49:03.343130",
     "status": "completed"
    },
    "tags": []
   },
   "outputs": [],
   "source": [
    "df.drop(['GarageYrBlt'],axis=1,inplace=True)# dropping this column in both data sets\n",
    "df_test.drop(['GarageYrBlt'],axis=1,inplace=True)"
   ]
  },
  {
   "cell_type": "code",
   "execution_count": 20,
   "id": "isolated-booth",
   "metadata": {
    "execution": {
     "iopub.execute_input": "2021-05-22T11:49:03.581992Z",
     "iopub.status.busy": "2021-05-22T11:49:03.581001Z",
     "iopub.status.idle": "2021-05-22T11:49:03.585185Z",
     "shell.execute_reply": "2021-05-22T11:49:03.582668Z",
     "shell.execute_reply.started": "2021-05-22T11:35:32.496712Z"
    },
    "papermill": {
     "duration": 0.083685,
     "end_time": "2021-05-22T11:49:03.585443",
     "exception": false,
     "start_time": "2021-05-22T11:49:03.501758",
     "status": "completed"
    },
    "tags": []
   },
   "outputs": [
    {
     "name": "stdout",
     "output_type": "stream",
     "text": [
      "(1460, 76)\n",
      "(1459, 75)\n"
     ]
    }
   ],
   "source": [
    "print(df.shape)\n",
    "print(df_test.shape)"
   ]
  },
  {
   "cell_type": "code",
   "execution_count": 21,
   "id": "cleared-stewart",
   "metadata": {
    "execution": {
     "iopub.execute_input": "2021-05-22T11:49:03.702370Z",
     "iopub.status.busy": "2021-05-22T11:49:03.701146Z",
     "iopub.status.idle": "2021-05-22T11:49:03.704963Z",
     "shell.execute_reply": "2021-05-22T11:49:03.704512Z",
     "shell.execute_reply.started": "2021-05-22T11:35:32.505254Z"
    },
    "papermill": {
     "duration": 0.052671,
     "end_time": "2021-05-22T11:49:03.705074",
     "exception": false,
     "start_time": "2021-05-22T11:49:03.652403",
     "status": "completed"
    },
    "tags": []
   },
   "outputs": [],
   "source": [
    "df.drop(['Id'], axis=1, inplace=True)\n",
    "df_test.drop(['Id'], axis=1, inplace=True)"
   ]
  },
  {
   "cell_type": "code",
   "execution_count": 22,
   "id": "hired-antenna",
   "metadata": {
    "execution": {
     "iopub.execute_input": "2021-05-22T11:49:03.801553Z",
     "iopub.status.busy": "2021-05-22T11:49:03.800399Z",
     "iopub.status.idle": "2021-05-22T11:49:03.808059Z",
     "shell.execute_reply": "2021-05-22T11:49:03.808416Z",
     "shell.execute_reply.started": "2021-05-22T11:35:32.516833Z"
    },
    "papermill": {
     "duration": 0.059772,
     "end_time": "2021-05-22T11:49:03.808537",
     "exception": false,
     "start_time": "2021-05-22T11:49:03.748765",
     "status": "completed"
    },
    "tags": []
   },
   "outputs": [
    {
     "data": {
      "text/plain": [
       "MasVnrType       8\n",
       "MasVnrArea       8\n",
       "BsmtExposure    38\n",
       "BsmtFinType1    37\n",
       "BsmtFinType2    38\n",
       "Electrical       1\n",
       "dtype: int64"
      ]
     },
     "execution_count": 22,
     "metadata": {},
     "output_type": "execute_result"
    }
   ],
   "source": [
    "df[df.columns[df.isnull().any()]].isnull().sum()"
   ]
  },
  {
   "cell_type": "code",
   "execution_count": 23,
   "id": "amended-olive",
   "metadata": {
    "execution": {
     "iopub.execute_input": "2021-05-22T11:49:03.901115Z",
     "iopub.status.busy": "2021-05-22T11:49:03.900433Z",
     "iopub.status.idle": "2021-05-22T11:49:03.903306Z",
     "shell.execute_reply": "2021-05-22T11:49:03.903749Z",
     "shell.execute_reply.started": "2021-05-22T11:35:32.537568Z"
    },
    "papermill": {
     "duration": 0.052631,
     "end_time": "2021-05-22T11:49:03.903883",
     "exception": false,
     "start_time": "2021-05-22T11:49:03.851252",
     "status": "completed"
    },
    "tags": []
   },
   "outputs": [
    {
     "name": "stdout",
     "output_type": "stream",
     "text": [
      "object\n",
      "float64\n",
      "object\n",
      "object\n",
      "object\n",
      "object\n"
     ]
    }
   ],
   "source": [
    "print(df.dtypes['MasVnrType'])\n",
    "print(df.dtypes['MasVnrArea'])\n",
    "print(df.dtypes['BsmtExposure'])\n",
    "print(df.dtypes['BsmtFinType1'])\n",
    "print(df.dtypes['BsmtFinType2'])\n",
    "print(df.dtypes['Electrical'])\n"
   ]
  },
  {
   "cell_type": "code",
   "execution_count": 24,
   "id": "analyzed-pulse",
   "metadata": {
    "execution": {
     "iopub.execute_input": "2021-05-22T11:49:04.000534Z",
     "iopub.status.busy": "2021-05-22T11:49:03.999754Z",
     "iopub.status.idle": "2021-05-22T11:49:04.003671Z",
     "shell.execute_reply": "2021-05-22T11:49:04.003117Z",
     "shell.execute_reply.started": "2021-05-22T11:35:32.550359Z"
    },
    "papermill": {
     "duration": 0.056981,
     "end_time": "2021-05-22T11:49:04.003790",
     "exception": false,
     "start_time": "2021-05-22T11:49:03.946809",
     "status": "completed"
    },
    "tags": []
   },
   "outputs": [],
   "source": [
    "#handling remainign missing null values\n",
    "df['MasVnrType']=df['MasVnrType'].fillna(df['MasVnrType'].mode()[0])\n",
    "df['BsmtExposure']=df['BsmtExposure'].fillna(df['BsmtExposure'].mode()[0])\n",
    "df['BsmtFinType1']=df['BsmtFinType1'].fillna(df['BsmtFinType1'].mode()[0])\n",
    "df['BsmtFinType2']=df['BsmtFinType2'].fillna(df['BsmtFinType2'].mode()[0])\n",
    "df['Electrical']=df['Electrical'].fillna(df['Electrical'].mode()[0])\n",
    "\n",
    "df['MasVnrArea']=df['MasVnrArea'].fillna(df['MasVnrArea'].mean())"
   ]
  },
  {
   "cell_type": "code",
   "execution_count": 25,
   "id": "black-binary",
   "metadata": {
    "execution": {
     "iopub.execute_input": "2021-05-22T11:49:04.100111Z",
     "iopub.status.busy": "2021-05-22T11:49:04.099184Z",
     "iopub.status.idle": "2021-05-22T11:49:04.107815Z",
     "shell.execute_reply": "2021-05-22T11:49:04.107312Z",
     "shell.execute_reply.started": "2021-05-22T11:35:32.564816Z"
    },
    "papermill": {
     "duration": 0.060582,
     "end_time": "2021-05-22T11:49:04.107922",
     "exception": false,
     "start_time": "2021-05-22T11:49:04.047340",
     "status": "completed"
    },
    "tags": []
   },
   "outputs": [
    {
     "data": {
      "text/plain": [
       "MSZoning         4\n",
       "Utilities        2\n",
       "Exterior1st      1\n",
       "Exterior2nd      1\n",
       "MasVnrType      16\n",
       "MasVnrArea      15\n",
       "BsmtExposure    44\n",
       "BsmtFinType1    42\n",
       "BsmtFinSF1       1\n",
       "BsmtFinType2    42\n",
       "BsmtFinSF2       1\n",
       "BsmtUnfSF        1\n",
       "TotalBsmtSF      1\n",
       "BsmtFullBath     2\n",
       "BsmtHalfBath     2\n",
       "KitchenQual      1\n",
       "Functional       2\n",
       "GarageCars       1\n",
       "GarageArea       1\n",
       "SaleType         1\n",
       "dtype: int64"
      ]
     },
     "execution_count": 25,
     "metadata": {},
     "output_type": "execute_result"
    }
   ],
   "source": [
    "df_test[df_test.columns[df_test.isnull().any()]].isnull().sum()"
   ]
  },
  {
   "cell_type": "code",
   "execution_count": 26,
   "id": "opened-lightning",
   "metadata": {
    "execution": {
     "iopub.execute_input": "2021-05-22T11:49:04.206761Z",
     "iopub.status.busy": "2021-05-22T11:49:04.205990Z",
     "iopub.status.idle": "2021-05-22T11:49:04.210911Z",
     "shell.execute_reply": "2021-05-22T11:49:04.210490Z",
     "shell.execute_reply.started": "2021-05-22T11:35:32.583729Z"
    },
    "papermill": {
     "duration": 0.057219,
     "end_time": "2021-05-22T11:49:04.211015",
     "exception": false,
     "start_time": "2021-05-22T11:49:04.153796",
     "status": "completed"
    },
    "tags": []
   },
   "outputs": [],
   "source": [
    "#handling remainign missing null values\n",
    "df_test['MasVnrType']=df_test['MasVnrType'].fillna(df_test['MasVnrType'].mode()[0])\n",
    "df_test['BsmtExposure']=df_test['BsmtExposure'].fillna(df_test['BsmtExposure'].mode()[0])\n",
    "df_test['BsmtFinType1']=df_test['BsmtFinType1'].fillna(df_test['BsmtFinType1'].mode()[0])\n",
    "df_test['BsmtFinType2']=df_test['BsmtFinType2'].fillna(df_test['BsmtFinType2'].mode()[0])\n",
    "df_test['Electrical']=df_test['Electrical'].fillna(df_test['Electrical'].mode()[0])\n",
    "\n",
    "df_test['MasVnrArea']=df_test['MasVnrArea'].fillna(df_test['MasVnrArea'].mean())"
   ]
  },
  {
   "cell_type": "code",
   "execution_count": 27,
   "id": "arbitrary-tolerance",
   "metadata": {
    "execution": {
     "iopub.execute_input": "2021-05-22T11:49:04.306760Z",
     "iopub.status.busy": "2021-05-22T11:49:04.305986Z",
     "iopub.status.idle": "2021-05-22T11:49:04.313621Z",
     "shell.execute_reply": "2021-05-22T11:49:04.313003Z",
     "shell.execute_reply.started": "2021-05-22T11:35:32.598536Z"
    },
    "papermill": {
     "duration": 0.059207,
     "end_time": "2021-05-22T11:49:04.313740",
     "exception": false,
     "start_time": "2021-05-22T11:49:04.254533",
     "status": "completed"
    },
    "tags": []
   },
   "outputs": [
    {
     "data": {
      "text/plain": [
       "MSZoning        4\n",
       "Utilities       2\n",
       "Exterior1st     1\n",
       "Exterior2nd     1\n",
       "BsmtFinSF1      1\n",
       "BsmtFinSF2      1\n",
       "BsmtUnfSF       1\n",
       "TotalBsmtSF     1\n",
       "BsmtFullBath    2\n",
       "BsmtHalfBath    2\n",
       "KitchenQual     1\n",
       "Functional      2\n",
       "GarageCars      1\n",
       "GarageArea      1\n",
       "SaleType        1\n",
       "dtype: int64"
      ]
     },
     "execution_count": 27,
     "metadata": {},
     "output_type": "execute_result"
    }
   ],
   "source": [
    "df_test[df_test.columns[df_test.isnull().any()]].isnull().sum()"
   ]
  },
  {
   "cell_type": "code",
   "execution_count": 28,
   "id": "seeing-privacy",
   "metadata": {
    "execution": {
     "iopub.execute_input": "2021-05-22T11:49:04.410832Z",
     "iopub.status.busy": "2021-05-22T11:49:04.409122Z",
     "iopub.status.idle": "2021-05-22T11:49:04.413946Z",
     "shell.execute_reply": "2021-05-22T11:49:04.414344Z",
     "shell.execute_reply.started": "2021-05-22T11:35:32.622424Z"
    },
    "papermill": {
     "duration": 0.056743,
     "end_time": "2021-05-22T11:49:04.414455",
     "exception": false,
     "start_time": "2021-05-22T11:49:04.357712",
     "status": "completed"
    },
    "tags": []
   },
   "outputs": [
    {
     "data": {
      "text/plain": [
       "['MSZoning',\n",
       " 'Utilities',\n",
       " 'Exterior1st',\n",
       " 'Exterior2nd',\n",
       " 'BsmtFinSF1',\n",
       " 'BsmtFinSF2',\n",
       " 'BsmtUnfSF',\n",
       " 'TotalBsmtSF',\n",
       " 'BsmtFullBath',\n",
       " 'BsmtHalfBath',\n",
       " 'KitchenQual',\n",
       " 'Functional',\n",
       " 'GarageCars',\n",
       " 'GarageArea',\n",
       " 'SaleType']"
      ]
     },
     "execution_count": 28,
     "metadata": {},
     "output_type": "execute_result"
    }
   ],
   "source": [
    "df_test_null_values = df_test.columns[df_test.isnull().any()].tolist()\n",
    "df_test_null_values"
   ]
  },
  {
   "cell_type": "code",
   "execution_count": 29,
   "id": "paperback-chorus",
   "metadata": {
    "execution": {
     "iopub.execute_input": "2021-05-22T11:49:04.512294Z",
     "iopub.status.busy": "2021-05-22T11:49:04.511487Z",
     "iopub.status.idle": "2021-05-22T11:49:04.521428Z",
     "shell.execute_reply": "2021-05-22T11:49:04.520918Z",
     "shell.execute_reply.started": "2021-05-22T11:35:32.639419Z"
    },
    "papermill": {
     "duration": 0.06188,
     "end_time": "2021-05-22T11:49:04.521537",
     "exception": false,
     "start_time": "2021-05-22T11:49:04.459657",
     "status": "completed"
    },
    "tags": []
   },
   "outputs": [],
   "source": [
    "for column in df_test_null_values:\n",
    "    if(df.dtypes[column] == 'object'):\n",
    "        df_test[column]=df_test[column].fillna(df_test[column].mode()[0])\n",
    "    else:\n",
    "        df_test[column]=df_test[column].fillna(df_test[column].mean())\n",
    "    "
   ]
  },
  {
   "cell_type": "code",
   "execution_count": 30,
   "id": "permanent-germany",
   "metadata": {
    "execution": {
     "iopub.execute_input": "2021-05-22T11:49:04.616655Z",
     "iopub.status.busy": "2021-05-22T11:49:04.615885Z",
     "iopub.status.idle": "2021-05-22T11:49:04.622904Z",
     "shell.execute_reply": "2021-05-22T11:49:04.622445Z",
     "shell.execute_reply.started": "2021-05-22T11:35:32.659965Z"
    },
    "papermill": {
     "duration": 0.057565,
     "end_time": "2021-05-22T11:49:04.623015",
     "exception": false,
     "start_time": "2021-05-22T11:49:04.565450",
     "status": "completed"
    },
    "tags": []
   },
   "outputs": [
    {
     "data": {
      "text/plain": [
       "Series([], dtype: float64)"
      ]
     },
     "execution_count": 30,
     "metadata": {},
     "output_type": "execute_result"
    }
   ],
   "source": [
    "df_test[df_test.columns[df_test.isnull().any()]].isnull().sum()"
   ]
  },
  {
   "cell_type": "code",
   "execution_count": 31,
   "id": "important-child",
   "metadata": {
    "execution": {
     "iopub.execute_input": "2021-05-22T11:49:04.734249Z",
     "iopub.status.busy": "2021-05-22T11:49:04.733143Z",
     "iopub.status.idle": "2021-05-22T11:49:05.133345Z",
     "shell.execute_reply": "2021-05-22T11:49:05.132835Z",
     "shell.execute_reply.started": "2021-05-22T11:35:32.676061Z"
    },
    "papermill": {
     "duration": 0.463749,
     "end_time": "2021-05-22T11:49:05.133539",
     "exception": false,
     "start_time": "2021-05-22T11:49:04.669790",
     "status": "completed"
    },
    "tags": []
   },
   "outputs": [
    {
     "data": {
      "text/plain": [
       "<AxesSubplot:>"
      ]
     },
     "execution_count": 31,
     "metadata": {},
     "output_type": "execute_result"
    },
    {
     "data": {
      "image/png": "[encoded data removed]",
      "text/plain": [
       "<Figure size 432x288 with 1 Axes>"
      ]
     },
     "metadata": {
      "needs_background": "light"
     },
     "output_type": "display_data"
    }
   ],
   "source": [
    "sns.heatmap(df.isnull(),yticklabels=False,cbar=False,cmap='coolwarm')"
   ]
  },
  {
   "cell_type": "code",
   "execution_count": 32,
   "id": "interesting-prediction",
   "metadata": {
    "execution": {
     "iopub.execute_input": "2021-05-22T11:49:05.240782Z",
     "iopub.status.busy": "2021-05-22T11:49:05.239879Z",
     "iopub.status.idle": "2021-05-22T11:49:05.605518Z",
     "shell.execute_reply": "2021-05-22T11:49:05.604746Z",
     "shell.execute_reply.started": "2021-05-22T11:35:33.041609Z"
    },
    "papermill": {
     "duration": 0.423196,
     "end_time": "2021-05-22T11:49:05.605665",
     "exception": false,
     "start_time": "2021-05-22T11:49:05.182469",
     "status": "completed"
    },
    "tags": []
   },
   "outputs": [
    {
     "data": {
      "text/plain": [
       "<AxesSubplot:>"
      ]
     },
     "execution_count": 32,
     "metadata": {},
     "output_type": "execute_result"
    },
    {
     "data": {
      "image/png": "[encoded data removed]",
      "text/plain": [
       "<Figure size 432x288 with 1 Axes>"
      ]
     },
     "metadata": {
      "needs_background": "light"
     },
     "output_type": "display_data"
    }
   ],
   "source": [
    "sns.heatmap(df_test.isnull(),yticklabels=False,cbar=False,cmap='coolwarm')"
   ]
  },
  {
   "cell_type": "code",
   "execution_count": 33,
   "id": "equipped-sullivan",
   "metadata": {
    "execution": {
     "iopub.execute_input": "2021-05-22T11:49:05.705982Z",
     "iopub.status.busy": "2021-05-22T11:49:05.704653Z",
     "iopub.status.idle": "2021-05-22T11:49:05.708167Z",
     "shell.execute_reply": "2021-05-22T11:49:05.708735Z",
     "shell.execute_reply.started": "2021-05-22T11:35:33.402188Z"
    },
    "papermill": {
     "duration": 0.055957,
     "end_time": "2021-05-22T11:49:05.708907",
     "exception": false,
     "start_time": "2021-05-22T11:49:05.652950",
     "status": "completed"
    },
    "tags": []
   },
   "outputs": [
    {
     "name": "stdout",
     "output_type": "stream",
     "text": [
      "(1460, 75)\n",
      "(1459, 74)\n"
     ]
    }
   ],
   "source": [
    "print(df.shape)\n",
    "print(df_test.shape)"
   ]
  },
  {
   "cell_type": "code",
   "execution_count": 34,
   "id": "physical-hungary",
   "metadata": {
    "execution": {
     "iopub.execute_input": "2021-05-22T11:49:05.810271Z",
     "iopub.status.busy": "2021-05-22T11:49:05.809753Z",
     "iopub.status.idle": "2021-05-22T11:49:05.813349Z",
     "shell.execute_reply": "2021-05-22T11:49:05.814189Z",
     "shell.execute_reply.started": "2021-05-22T11:35:33.409992Z"
    },
    "papermill": {
     "duration": 0.057345,
     "end_time": "2021-05-22T11:49:05.814316",
     "exception": false,
     "start_time": "2021-05-22T11:49:05.756971",
     "status": "completed"
    },
    "tags": []
   },
   "outputs": [
    {
     "name": "stdout",
     "output_type": "stream",
     "text": [
      "36\n",
      "39\n",
      "(1460, 75)\n"
     ]
    }
   ],
   "source": [
    "#Handle categorical features\n",
    "numerical_columns = df._get_numeric_data().columns\n",
    "print(len(numerical_columns))\n",
    "categorical_columns = list(set(df.columns) - set(numerical_columns))\n",
    "print(len(categorical_columns))\n",
    "print(df.shape)"
   ]
  },
  {
   "cell_type": "code",
   "execution_count": 35,
   "id": "average-garlic",
   "metadata": {
    "execution": {
     "iopub.execute_input": "2021-05-22T11:49:05.916631Z",
     "iopub.status.busy": "2021-05-22T11:49:05.915749Z",
     "iopub.status.idle": "2021-05-22T11:49:05.918301Z",
     "shell.execute_reply": "2021-05-22T11:49:05.917896Z",
     "shell.execute_reply.started": "2021-05-22T11:35:33.418855Z"
    },
    "papermill": {
     "duration": 0.056477,
     "end_time": "2021-05-22T11:49:05.918409",
     "exception": false,
     "start_time": "2021-05-22T11:49:05.861932",
     "status": "completed"
    },
    "tags": []
   },
   "outputs": [],
   "source": [
    "def category_onehot_mulcols(multcol):\n",
    "    df_final = final_df\n",
    "    i = 0\n",
    "    for fields in multcol:\n",
    "        print(fields)\n",
    "        df1 = pd.get_dummies(final_df[fields], drop_first=True)\n",
    "        final_df.drop([fields], axis=1, inplace=True)\n",
    "        \n",
    "        if i==0:\n",
    "            df_final = df1.copy()\n",
    "        else:\n",
    "            df_final = pd.concat([df_final, df1], axis=1)\n",
    "            \n",
    "        i = i+1\n",
    "    \n",
    "    df_final = pd.concat([final_df, df_final], axis=1)\n",
    "    return df_final\n",
    "        "
   ]
  },
  {
   "cell_type": "code",
   "execution_count": 36,
   "id": "infectious-sleep",
   "metadata": {
    "execution": {
     "iopub.execute_input": "2021-05-22T11:49:06.017706Z",
     "iopub.status.busy": "2021-05-22T11:49:06.016961Z",
     "iopub.status.idle": "2021-05-22T11:49:06.020315Z",
     "shell.execute_reply": "2021-05-22T11:49:06.019876Z",
     "shell.execute_reply.started": "2021-05-22T11:35:33.428391Z"
    },
    "papermill": {
     "duration": 0.054456,
     "end_time": "2021-05-22T11:49:06.020422",
     "exception": false,
     "start_time": "2021-05-22T11:49:05.965966",
     "status": "completed"
    },
    "tags": []
   },
   "outputs": [],
   "source": [
    "main_df = df.copy()"
   ]
  },
  {
   "cell_type": "code",
   "execution_count": 37,
   "id": "painted-perspective",
   "metadata": {
    "execution": {
     "iopub.execute_input": "2021-05-22T11:49:06.120154Z",
     "iopub.status.busy": "2021-05-22T11:49:06.119563Z",
     "iopub.status.idle": "2021-05-22T11:49:06.122589Z",
     "shell.execute_reply": "2021-05-22T11:49:06.123175Z",
     "shell.execute_reply.started": "2021-05-22T11:35:33.436856Z"
    },
    "papermill": {
     "duration": 0.055285,
     "end_time": "2021-05-22T11:49:06.123424",
     "exception": false,
     "start_time": "2021-05-22T11:49:06.068139",
     "status": "completed"
    },
    "tags": []
   },
   "outputs": [
    {
     "name": "stdout",
     "output_type": "stream",
     "text": [
      "(1460, 75)\n",
      "(1459, 74)\n"
     ]
    }
   ],
   "source": [
    "print(df.shape)\n",
    "print(df_test.shape)"
   ]
  },
  {
   "cell_type": "code",
   "execution_count": 38,
   "id": "forbidden-mainland",
   "metadata": {
    "execution": {
     "iopub.execute_input": "2021-05-22T11:49:06.232703Z",
     "iopub.status.busy": "2021-05-22T11:49:06.231926Z",
     "iopub.status.idle": "2021-05-22T11:49:06.243975Z",
     "shell.execute_reply": "2021-05-22T11:49:06.244380Z",
     "shell.execute_reply.started": "2021-05-22T11:35:33.445029Z"
    },
    "papermill": {
     "duration": 0.07001,
     "end_time": "2021-05-22T11:49:06.244508",
     "exception": false,
     "start_time": "2021-05-22T11:49:06.174498",
     "status": "completed"
    },
    "tags": []
   },
   "outputs": [],
   "source": [
    "#trying to combine train and test data rowwise\n",
    "final_df = pd.concat([df, df_test], axis=0)"
   ]
  },
  {
   "cell_type": "code",
   "execution_count": 39,
   "id": "deadly-infrastructure",
   "metadata": {
    "execution": {
     "iopub.execute_input": "2021-05-22T11:49:06.349195Z",
     "iopub.status.busy": "2021-05-22T11:49:06.348525Z",
     "iopub.status.idle": "2021-05-22T11:49:06.351560Z",
     "shell.execute_reply": "2021-05-22T11:49:06.352008Z",
     "shell.execute_reply.started": "2021-05-22T11:35:33.465065Z"
    },
    "papermill": {
     "duration": 0.057193,
     "end_time": "2021-05-22T11:49:06.352132",
     "exception": false,
     "start_time": "2021-05-22T11:49:06.294939",
     "status": "completed"
    },
    "tags": []
   },
   "outputs": [
    {
     "data": {
      "text/plain": [
       "(2919, 75)"
      ]
     },
     "execution_count": 39,
     "metadata": {},
     "output_type": "execute_result"
    }
   ],
   "source": [
    "final_df.shape"
   ]
  },
  {
   "cell_type": "code",
   "execution_count": 40,
   "id": "greatest-humanitarian",
   "metadata": {
    "execution": {
     "iopub.execute_input": "2021-05-22T11:49:06.452620Z",
     "iopub.status.busy": "2021-05-22T11:49:06.451975Z",
     "iopub.status.idle": "2021-05-22T11:49:06.573564Z",
     "shell.execute_reply": "2021-05-22T11:49:06.573112Z",
     "shell.execute_reply.started": "2021-05-22T11:35:33.473753Z"
    },
    "papermill": {
     "duration": 0.173059,
     "end_time": "2021-05-22T11:49:06.573677",
     "exception": false,
     "start_time": "2021-05-22T11:49:06.400618",
     "status": "completed"
    },
    "tags": []
   },
   "outputs": [
    {
     "name": "stdout",
     "output_type": "stream",
     "text": [
      "Functional\n",
      "ExterCond\n",
      "Utilities\n",
      "Condition1\n",
      "Neighborhood\n",
      "GarageCond\n",
      "BsmtCond\n",
      "ExterQual\n",
      "Exterior2nd\n",
      "RoofStyle\n",
      "PavedDrive\n",
      "BsmtFinType2\n",
      "KitchenQual\n",
      "CentralAir\n",
      "LotConfig\n",
      "GarageQual\n",
      "Electrical\n",
      "LandContour\n",
      "Foundation\n",
      "HouseStyle\n",
      "BsmtQual\n",
      "GarageFinish\n",
      "LotShape\n",
      "BsmtExposure\n",
      "Condition2\n",
      "Heating\n",
      "MasVnrType\n",
      "FireplaceQu\n",
      "BldgType\n",
      "RoofMatl\n",
      "SaleCondition\n",
      "Street\n",
      "BsmtFinType1\n",
      "LandSlope\n",
      "Exterior1st\n",
      "MSZoning\n",
      "HeatingQC\n",
      "SaleType\n",
      "GarageType\n"
     ]
    }
   ],
   "source": [
    "final_df = category_onehot_mulcols(categorical_columns)"
   ]
  },
  {
   "cell_type": "code",
   "execution_count": 41,
   "id": "incredible-delaware",
   "metadata": {
    "execution": {
     "iopub.execute_input": "2021-05-22T11:49:06.672098Z",
     "iopub.status.busy": "2021-05-22T11:49:06.671312Z",
     "iopub.status.idle": "2021-05-22T11:49:06.674345Z",
     "shell.execute_reply": "2021-05-22T11:49:06.674720Z",
     "shell.execute_reply.started": "2021-05-22T11:35:33.607861Z"
    },
    "papermill": {
     "duration": 0.053479,
     "end_time": "2021-05-22T11:49:06.674849",
     "exception": false,
     "start_time": "2021-05-22T11:49:06.621370",
     "status": "completed"
    },
    "tags": []
   },
   "outputs": [
    {
     "data": {
      "text/plain": [
       "(2919, 236)"
      ]
     },
     "execution_count": 41,
     "metadata": {},
     "output_type": "execute_result"
    }
   ],
   "source": [
    "final_df.shape"
   ]
  },
  {
   "cell_type": "code",
   "execution_count": 42,
   "id": "overhead-panic",
   "metadata": {
    "execution": {
     "iopub.execute_input": "2021-05-22T11:49:06.773966Z",
     "iopub.status.busy": "2021-05-22T11:49:06.773059Z",
     "iopub.status.idle": "2021-05-22T11:49:06.778495Z",
     "shell.execute_reply": "2021-05-22T11:49:06.778909Z",
     "shell.execute_reply.started": "2021-05-22T11:35:33.620770Z"
    },
    "papermill": {
     "duration": 0.056911,
     "end_time": "2021-05-22T11:49:06.779034",
     "exception": false,
     "start_time": "2021-05-22T11:49:06.722123",
     "status": "completed"
    },
    "tags": []
   },
   "outputs": [
    {
     "data": {
      "text/plain": [
       "(2919, 176)"
      ]
     },
     "execution_count": 42,
     "metadata": {},
     "output_type": "execute_result"
    }
   ],
   "source": [
    "# removing duplicate columns\n",
    "final_df = final_df.loc[:, ~final_df.columns.duplicated()]\n",
    "final_df.shape"
   ]
  },
  {
   "cell_type": "code",
   "execution_count": 43,
   "id": "familiar-causing",
   "metadata": {
    "execution": {
     "iopub.execute_input": "2021-05-22T11:49:06.878022Z",
     "iopub.status.busy": "2021-05-22T11:49:06.877230Z",
     "iopub.status.idle": "2021-05-22T11:49:06.880308Z",
     "shell.execute_reply": "2021-05-22T11:49:06.879881Z",
     "shell.execute_reply.started": "2021-05-22T11:35:33.632296Z"
    },
    "papermill": {
     "duration": 0.0536,
     "end_time": "2021-05-22T11:49:06.880418",
     "exception": false,
     "start_time": "2021-05-22T11:49:06.826818",
     "status": "completed"
    },
    "tags": []
   },
   "outputs": [],
   "source": [
    "df_Train = final_df.iloc[:1460, :]\n",
    "df_Test = final_df.iloc[1460:, :]"
   ]
  },
  {
   "cell_type": "code",
   "execution_count": 44,
   "id": "nonprofit-tomorrow",
   "metadata": {
    "execution": {
     "iopub.execute_input": "2021-05-22T11:49:06.980247Z",
     "iopub.status.busy": "2021-05-22T11:49:06.979667Z",
     "iopub.status.idle": "2021-05-22T11:49:06.989586Z",
     "shell.execute_reply": "2021-05-22T11:49:06.990173Z",
     "shell.execute_reply.started": "2021-05-22T11:35:33.640019Z"
    },
    "papermill": {
     "duration": 0.06243,
     "end_time": "2021-05-22T11:49:06.990367",
     "exception": false,
     "start_time": "2021-05-22T11:49:06.927937",
     "status": "completed"
    },
    "tags": []
   },
   "outputs": [
    {
     "name": "stderr",
     "output_type": "stream",
     "text": [
      "/opt/conda/lib/python3.7/site-packages/pandas/core/frame.py:4174: SettingWithCopyWarning: \n",
      "A value is trying to be set on a copy of a slice from a DataFrame\n",
      "\n",
      "See the caveats in the documentation: https://pandas.pydata.org/pandas-docs/stable/user_guide/indexing.html#returning-a-view-versus-a-copy\n",
      "  errors=errors,\n"
     ]
    }
   ],
   "source": [
    "df_Test.drop(['SalePrice'], axis=1, inplace=True)"
   ]
  },
  {
   "cell_type": "code",
   "execution_count": 45,
   "id": "mechanical-settlement",
   "metadata": {
    "execution": {
     "iopub.execute_input": "2021-05-22T11:49:07.092495Z",
     "iopub.status.busy": "2021-05-22T11:49:07.091677Z",
     "iopub.status.idle": "2021-05-22T11:49:07.095273Z",
     "shell.execute_reply": "2021-05-22T11:49:07.094811Z",
     "shell.execute_reply.started": "2021-05-22T11:35:33.655880Z"
    },
    "papermill": {
     "duration": 0.056174,
     "end_time": "2021-05-22T11:49:07.095387",
     "exception": false,
     "start_time": "2021-05-22T11:49:07.039213",
     "status": "completed"
    },
    "tags": []
   },
   "outputs": [
    {
     "data": {
      "text/plain": [
       "Index(['MSSubClass', 'LotFrontage', 'LotArea', 'OverallQual', 'OverallCond',\n",
       "       'YearBuilt', 'YearRemodAdd', 'MasVnrArea', 'BsmtFinSF1', 'BsmtFinSF2',\n",
       "       ...\n",
       "       'ConLI', 'ConLw', 'New', 'Oth', 'WD', 'Attchd', 'Basment', 'BuiltIn',\n",
       "       'CarPort', 'Detchd'],\n",
       "      dtype='object', length=175)"
      ]
     },
     "execution_count": 45,
     "metadata": {},
     "output_type": "execute_result"
    }
   ],
   "source": [
    "df_Test.columns"
   ]
  },
  {
   "cell_type": "code",
   "execution_count": 46,
   "id": "beautiful-hampshire",
   "metadata": {
    "execution": {
     "iopub.execute_input": "2021-05-22T11:49:07.197271Z",
     "iopub.status.busy": "2021-05-22T11:49:07.196613Z",
     "iopub.status.idle": "2021-05-22T11:49:07.199560Z",
     "shell.execute_reply": "2021-05-22T11:49:07.199952Z",
     "shell.execute_reply.started": "2021-05-22T11:35:33.664919Z"
    },
    "papermill": {
     "duration": 0.054728,
     "end_time": "2021-05-22T11:49:07.200078",
     "exception": false,
     "start_time": "2021-05-22T11:49:07.145350",
     "status": "completed"
    },
    "tags": []
   },
   "outputs": [
    {
     "data": {
      "text/plain": [
       "(1459, 175)"
      ]
     },
     "execution_count": 46,
     "metadata": {},
     "output_type": "execute_result"
    }
   ],
   "source": [
    "df_Test.shape"
   ]
  },
  {
   "cell_type": "code",
   "execution_count": 47,
   "id": "antique-madness",
   "metadata": {
    "execution": {
     "iopub.execute_input": "2021-05-22T11:49:07.300591Z",
     "iopub.status.busy": "2021-05-22T11:49:07.299774Z",
     "iopub.status.idle": "2021-05-22T11:49:07.303355Z",
     "shell.execute_reply": "2021-05-22T11:49:07.303780Z",
     "shell.execute_reply.started": "2021-05-22T11:35:38.743481Z"
    },
    "papermill": {
     "duration": 0.056134,
     "end_time": "2021-05-22T11:49:07.303905",
     "exception": false,
     "start_time": "2021-05-22T11:49:07.247771",
     "status": "completed"
    },
    "tags": []
   },
   "outputs": [],
   "source": [
    "X_train = df_Train.drop(['SalePrice'], axis=1)\n",
    "Y_train = df_Train['SalePrice']"
   ]
  },
  {
   "cell_type": "code",
   "execution_count": 48,
   "id": "acceptable-tribe",
   "metadata": {
    "execution": {
     "iopub.execute_input": "2021-05-22T11:49:07.404152Z",
     "iopub.status.busy": "2021-05-22T11:49:07.403522Z",
     "iopub.status.idle": "2021-05-22T11:49:08.990980Z",
     "shell.execute_reply": "2021-05-22T11:49:08.990510Z",
     "shell.execute_reply.started": "2021-05-22T11:35:41.543611Z"
    },
    "papermill": {
     "duration": 1.63934,
     "end_time": "2021-05-22T11:49:08.991108",
     "exception": false,
     "start_time": "2021-05-22T11:49:07.351768",
     "status": "completed"
    },
    "tags": []
   },
   "outputs": [
    {
     "data": {
      "text/plain": [
       "XGBRegressor(base_score=0.5, booster='gbtree', colsample_bylevel=1,\n",
       "             colsample_bynode=1, colsample_bytree=1, gamma=0, gpu_id=0,\n",
       "             importance_type='gain', interaction_constraints='',\n",
       "             learning_rate=0.300000012, max_delta_step=0, max_depth=6,\n",
       "             min_child_weight=1, missing=nan, monotone_constraints='()',\n",
       "             n_estimators=100, n_jobs=2, num_parallel_tree=1, random_state=0,\n",
       "             reg_alpha=0, reg_lambda=1, scale_pos_weight=1, subsample=1,\n",
       "             tree_method='gpu_hist', validate_parameters=1, verbosity=None)"
      ]
     },
     "execution_count": 48,
     "metadata": {},
     "output_type": "execute_result"
    }
   ],
   "source": [
    "import xgboost\n",
    "xgboost_classifier = xgboost.XGBRegressor(tree_method='gpu_hist', gpu_id=0)\n",
    "xgboost_classifier.fit(X_train, Y_train)"
   ]
  },
  {
   "cell_type": "code",
   "execution_count": 49,
   "id": "portuguese-nurse",
   "metadata": {
    "execution": {
     "iopub.execute_input": "2021-05-22T11:49:09.092118Z",
     "iopub.status.busy": "2021-05-22T11:49:09.091398Z",
     "iopub.status.idle": "2021-05-22T11:49:09.107448Z",
     "shell.execute_reply": "2021-05-22T11:49:09.107046Z",
     "shell.execute_reply.started": "2021-05-22T11:37:15.682833Z"
    },
    "papermill": {
     "duration": 0.068018,
     "end_time": "2021-05-22T11:49:09.107558",
     "exception": false,
     "start_time": "2021-05-22T11:49:09.039540",
     "status": "completed"
    },
    "tags": []
   },
   "outputs": [],
   "source": [
    "import pickle \n",
    "filename = 'finalized_model.pkl'\n",
    "pickle.dump(xgboost_classifier, open(filename, 'wb'))"
   ]
  },
  {
   "cell_type": "code",
   "execution_count": 50,
   "id": "architectural-colleague",
   "metadata": {
    "execution": {
     "iopub.execute_input": "2021-05-22T11:49:09.208550Z",
     "iopub.status.busy": "2021-05-22T11:49:09.207768Z",
     "iopub.status.idle": "2021-05-22T11:49:10.453631Z",
     "shell.execute_reply": "2021-05-22T11:49:10.452531Z",
     "shell.execute_reply.started": "2021-05-22T11:37:42.901899Z"
    },
    "papermill": {
     "duration": 1.298027,
     "end_time": "2021-05-22T11:49:10.453800",
     "exception": false,
     "start_time": "2021-05-22T11:49:09.155773",
     "status": "completed"
    },
    "tags": []
   },
   "outputs": [
    {
     "name": "stderr",
     "output_type": "stream",
     "text": [
      "/opt/conda/lib/python3.7/site-packages/xgboost/data.py:114: UserWarning: Use subset (sliced data) of np.ndarray is not recommended because it will generate extra copies and increase memory consumption\n",
      "  \"because it will generate extra copies and increase \" +\n"
     ]
    }
   ],
   "source": [
    "y_pred = xgboost_classifier.predict(df_Test)"
   ]
  },
  {
   "cell_type": "code",
   "execution_count": 51,
   "id": "antique-brunswick",
   "metadata": {
    "execution": {
     "iopub.execute_input": "2021-05-22T11:49:10.558228Z",
     "iopub.status.busy": "2021-05-22T11:49:10.557524Z",
     "iopub.status.idle": "2021-05-22T11:49:10.560547Z",
     "shell.execute_reply": "2021-05-22T11:49:10.560932Z",
     "shell.execute_reply.started": "2021-05-22T11:37:57.078598Z"
    },
    "papermill": {
     "duration": 0.058129,
     "end_time": "2021-05-22T11:49:10.561061",
     "exception": false,
     "start_time": "2021-05-22T11:49:10.502932",
     "status": "completed"
    },
    "tags": []
   },
   "outputs": [
    {
     "data": {
      "text/plain": [
       "array([124877.945, 154457.64 , 184509.28 , ..., 155734.7  , 113838.13 ,\n",
       "       226872.05 ], dtype=float32)"
      ]
     },
     "execution_count": 51,
     "metadata": {},
     "output_type": "execute_result"
    }
   ],
   "source": [
    "y_pred"
   ]
  },
  {
   "cell_type": "code",
   "execution_count": 52,
   "id": "enclosed-princess",
   "metadata": {
    "execution": {
     "iopub.execute_input": "2021-05-22T11:49:10.666731Z",
     "iopub.status.busy": "2021-05-22T11:49:10.666242Z",
     "iopub.status.idle": "2021-05-22T11:49:10.796000Z",
     "shell.execute_reply": "2021-05-22T11:49:10.795544Z",
     "shell.execute_reply.started": "2021-05-22T11:44:31.139453Z"
    },
    "papermill": {
     "duration": 0.185663,
     "end_time": "2021-05-22T11:49:10.796119",
     "exception": false,
     "start_time": "2021-05-22T11:49:10.610456",
     "status": "completed"
    },
    "tags": []
   },
   "outputs": [],
   "source": [
    "pred = pd.DataFrame(y_pred)\n",
    "sub_df = pd.read_csv('/kaggle/input/house-prices-advanced-regression-techniques/sample_submission.csv')\n",
    "datasets = pd.concat([sub_df['Id'], pred], axis=1)\n",
    "datasets.columns = ['Id', 'SalePrice']\n",
    "datasets.to_csv('sample_submission1.csv', index=False)"
   ]
  },
  {
   "cell_type": "code",
   "execution_count": 53,
   "id": "interim-given",
   "metadata": {
    "execution": {
     "iopub.execute_input": "2021-05-22T11:49:10.897318Z",
     "iopub.status.busy": "2021-05-22T11:49:10.896553Z",
     "iopub.status.idle": "2021-05-22T11:49:10.903241Z",
     "shell.execute_reply": "2021-05-22T11:49:10.902676Z",
     "shell.execute_reply.started": "2021-05-22T11:45:21.374093Z"
    },
    "papermill": {
     "duration": 0.058719,
     "end_time": "2021-05-22T11:49:10.903387",
     "exception": false,
     "start_time": "2021-05-22T11:49:10.844668",
     "status": "completed"
    },
    "tags": []
   },
   "outputs": [
    {
     "name": "stdout",
     "output_type": "stream",
     "text": [
      "/kaggle/src/script.ipynb\n",
      "/kaggle/lib/kaggle/gcp.py\n",
      "/kaggle/input/house-prices-advanced-regression-techniques/sample_submission.csv\n",
      "/kaggle/input/house-prices-advanced-regression-techniques/data_description.txt\n",
      "/kaggle/input/house-prices-advanced-regression-techniques/train.csv\n",
      "/kaggle/input/house-prices-advanced-regression-techniques/test.csv\n",
      "/kaggle/working/__notebook__.ipynb\n",
      "/kaggle/working/sample_submission1.csv\n",
      "/kaggle/working/finalized_model.pkl\n"
     ]
    }
   ],
   "source": [
    "for dirname, _, filenames in os.walk('/kaggle'):\n",
    "    for filename in filenames:\n",
    "        print(os.path.join(dirname, filename))"
   ]
  },
  {
   "cell_type": "code",
   "execution_count": null,
   "id": "confused-bahamas",
   "metadata": {
    "papermill": {
     "duration": 0.049075,
     "end_time": "2021-05-22T11:49:11.002151",
     "exception": false,
     "start_time": "2021-05-22T11:49:10.953076",
     "status": "completed"
    },
    "tags": []
   },
   "outputs": [],
   "source": []
  }
 ],
 "metadata": {
  "kernelspec": {
   "display_name": "Python 3",
   "language": "python",
   "name": "python3"
  },
  "language_info": {
   "codemirror_mode": {
    "name": "ipython",
    "version": 3
   },
   "file_extension": ".py",
   "mimetype": "text/x-python",
   "name": "python",
   "nbconvert_exporter": "python",
   "pygments_lexer": "ipython3",
   "version": "3.7.10"
  },
  "papermill": {
   "default_parameters": {},
   "duration": 19.72439,
   "end_time": "2021-05-22T11:49:12.791145",
   "environment_variables": {},
   "exception": null,
   "input_path": "__notebook__.ipynb",
   "output_path": "__notebook__.ipynb",
   "parameters": {},
   "start_time": "2021-05-22T11:48:53.066755",
   "version": "2.3.3"
  }
 },
 "nbformat": 4,
 "nbformat_minor": 5
}
